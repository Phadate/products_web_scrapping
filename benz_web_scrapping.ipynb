{
  "cells": [
    {
      "cell_type": "markdown",
      "metadata": {
        "id": "view-in-github",
        "colab_type": "text"
      },
      "source": [
        "<a href=\"https://colab.research.google.com/github/Phadate/products_web_scrapping/blob/main/benz_web_scrapping.ipynb\" target=\"_parent\"><img src=\"https://colab.research.google.com/assets/colab-badge.svg\" alt=\"Open In Colab\"/></a>"
      ]
    },
    {
      "cell_type": "markdown",
      "metadata": {
        "id": "I92vKwhrouKP"
      },
      "source": [
        "### Imports"
      ]
    },
    {
      "cell_type": "code",
      "execution_count": 3,
      "metadata": {
        "id": "TL7-QdFOouKT"
      },
      "outputs": [],
      "source": [
        "import requests\n",
        "from bs4 import BeautifulSoup\n",
        "import pandas as pd\n"
      ]
    },
    {
      "cell_type": "markdown",
      "metadata": {
        "id": "SX6OIfquouKV"
      },
      "source": [
        "### HTTP Request"
      ]
    },
    {
      "cell_type": "markdown",
      "metadata": {
        "id": "dtb5PvRUouKW"
      },
      "source": [
        "#### store website in variable"
      ]
    },
    {
      "cell_type": "code",
      "execution_count": 4,
      "metadata": {
        "id": "Gx3J11XLouKX"
      },
      "outputs": [],
      "source": [
        "# get url\n",
        "website = 'https://www.cars.com/shopping/results/?stock_type=used&makes%5B%5D=mercedes_benz&models%5B%5D=&list_price_max=&maximum_distance=20&zip='"
      ]
    },
    {
      "cell_type": "markdown",
      "metadata": {
        "id": "XFNDuycAouKX"
      },
      "source": [
        "#### Get Request"
      ]
    },
    {
      "cell_type": "code",
      "execution_count": 5,
      "metadata": {
        "id": "54_uff0douKY"
      },
      "outputs": [],
      "source": [
        "web_url=  requests.get(website)"
      ]
    },
    {
      "cell_type": "markdown",
      "metadata": {
        "id": "vrRdfzbuouKY"
      },
      "source": [
        "#### Status Code"
      ]
    },
    {
      "cell_type": "code",
      "execution_count": 6,
      "metadata": {
        "colab": {
          "base_uri": "https://localhost:8080/"
        },
        "id": "xSaZtW3louKZ",
        "outputId": "c839cc55-fe3e-4fb6-8009-81dbc4aeb570"
      },
      "outputs": [
        {
          "output_type": "execute_result",
          "data": {
            "text/plain": [
              "200"
            ]
          },
          "metadata": {},
          "execution_count": 6
        }
      ],
      "source": [
        "web_url.status_code"
      ]
    },
    {
      "cell_type": "markdown",
      "metadata": {
        "id": "L5cYjWHUouKa"
      },
      "source": [
        "### Soup Object"
      ]
    },
    {
      "cell_type": "code",
      "execution_count": 8,
      "metadata": {
        "id": "x_w25pAoouKa"
      },
      "outputs": [],
      "source": [
        "soup = BeautifulSoup(web_url.text, 'html.parser')"
      ]
    },
    {
      "cell_type": "code",
      "execution_count": null,
      "metadata": {
        "id": "1hkVyoseouKb"
      },
      "outputs": [],
      "source": [
        "soup"
      ]
    },
    {
      "cell_type": "markdown",
      "metadata": {
        "id": "g_Pk6dmhouKb"
      },
      "source": [
        "### Results"
      ]
    },
    {
      "cell_type": "code",
      "execution_count": 10,
      "metadata": {
        "id": "TSDzVHCEouKb"
      },
      "outputs": [],
      "source": [
        "results = soup.find_all('div', attrs={'class':'vehicle-card'})"
      ]
    },
    {
      "cell_type": "code",
      "execution_count": 31,
      "metadata": {
        "colab": {
          "base_uri": "https://localhost:8080/"
        },
        "id": "riDaXagYouKc",
        "outputId": "52342fff-203d-4f67-ff3a-12e20dde3feb"
      },
      "outputs": [
        {
          "output_type": "execute_result",
          "data": {
            "text/plain": [
              "20"
            ]
          },
          "metadata": {},
          "execution_count": 31
        }
      ],
      "source": [
        ""
      ]
    },
    {
      "cell_type": "code",
      "execution_count": null,
      "metadata": {
        "id": "w5Q0qiM1ouKc"
      },
      "outputs": [],
      "source": [
        "results[0]"
      ]
    },
    {
      "cell_type": "markdown",
      "metadata": {
        "id": "ODsAa_vuouKc"
      },
      "source": [
        "### Target necessary data"
      ]
    },
    {
      "cell_type": "code",
      "execution_count": null,
      "metadata": {
        "id": "IntuWbclouKd"
      },
      "outputs": [],
      "source": [
        "# Name\n",
        "# Price\n",
        "# Review Rating\n",
        "# Review Count\n",
        "# Product Link\n",
        "# Product Details"
      ]
    },
    {
      "cell_type": "markdown",
      "metadata": {
        "id": "mrGhMaKhouKe"
      },
      "source": [
        "#### Name"
      ]
    },
    {
      "cell_type": "code",
      "execution_count": 38,
      "metadata": {
        "colab": {
          "base_uri": "https://localhost:8080/",
          "height": 35
        },
        "id": "43v2T5vMouKe",
        "outputId": "25728823-d7eb-4bcd-e3bb-113258a6eae0"
      },
      "outputs": [
        {
          "output_type": "execute_result",
          "data": {
            "text/plain": [
              "'2012 Mercedes-Benz S-Class S 550 4MATIC'"
            ],
            "application/vnd.google.colaboratory.intrinsic+json": {
              "type": "string"
            }
          },
          "metadata": {},
          "execution_count": 38
        }
      ],
      "source": [
        "results[0].find('h2').text"
      ]
    },
    {
      "cell_type": "markdown",
      "metadata": {
        "id": "nrcdv9ilouKe"
      },
      "source": [
        "#### Price"
      ]
    },
    {
      "cell_type": "code",
      "execution_count": 51,
      "metadata": {
        "colab": {
          "base_uri": "https://localhost:8080/",
          "height": 35
        },
        "id": "N-NgYAxMouKf",
        "outputId": "f7622d32-afda-4708-db26-220a79456499"
      },
      "outputs": [
        {
          "output_type": "execute_result",
          "data": {
            "text/plain": [
              "'$25,999'"
            ],
            "application/vnd.google.colaboratory.intrinsic+json": {
              "type": "string"
            }
          },
          "metadata": {},
          "execution_count": 51
        }
      ],
      "source": [
        "results[0].find('span', attrs={'class':'primary-price'}).text"
      ]
    },
    {
      "cell_type": "markdown",
      "metadata": {
        "id": "eYCWt2alouKf"
      },
      "source": [
        "#### Review Rating"
      ]
    },
    {
      "cell_type": "code",
      "execution_count": 52,
      "metadata": {
        "colab": {
          "base_uri": "https://localhost:8080/",
          "height": 35
        },
        "id": "X-jYG7jnouKf",
        "outputId": "e9620dc3-c197-4a8e-bc04-2ad2805066c8"
      },
      "outputs": [
        {
          "output_type": "execute_result",
          "data": {
            "text/plain": [
              "'3.0'"
            ],
            "application/vnd.google.colaboratory.intrinsic+json": {
              "type": "string"
            }
          },
          "metadata": {},
          "execution_count": 52
        }
      ],
      "source": [
        "results[0].find('span', attrs={'class':'sds-rating__count'}).text"
      ]
    },
    {
      "cell_type": "markdown",
      "metadata": {
        "id": "Fbumz7JBouKf"
      },
      "source": [
        "#### Review Count"
      ]
    },
    {
      "cell_type": "code",
      "execution_count": 51,
      "metadata": {
        "colab": {
          "base_uri": "https://localhost:8080/",
          "height": 35
        },
        "id": "5x_7IcI2ouKg",
        "outputId": "6dbf0b05-7aed-47da-fc0e-61b63a5267d2"
      },
      "outputs": [
        {
          "output_type": "execute_result",
          "data": {
            "text/plain": [
              "'(27 reviews)'"
            ],
            "application/vnd.google.colaboratory.intrinsic+json": {
              "type": "string"
            }
          },
          "metadata": {},
          "execution_count": 51
        }
      ],
      "source": [
        "results[0].find('span', attrs={'class':'sds-rating__link sds-button-link'}).text"
      ]
    },
    {
      "cell_type": "code",
      "source": [
        ""
      ],
      "metadata": {
        "id": "Mp1T2ffriDFp"
      },
      "execution_count": 51,
      "outputs": []
    },
    {
      "cell_type": "markdown",
      "metadata": {
        "id": "RBf12hK9ouKg"
      },
      "source": [
        "#### Mileage\n"
      ]
    },
    {
      "cell_type": "code",
      "source": [
        "results[0].find('div', attrs={'class':'mileage'}).text"
      ],
      "metadata": {
        "colab": {
          "base_uri": "https://localhost:8080/",
          "height": 35
        },
        "id": "ZgOJTHEqZIZZ",
        "outputId": "d8eaae9f-3114-44e7-e415-72a59fdf31a8"
      },
      "execution_count": 58,
      "outputs": [
        {
          "output_type": "execute_result",
          "data": {
            "text/plain": [
              "'84,892 mi.'"
            ],
            "application/vnd.google.colaboratory.intrinsic+json": {
              "type": "string"
            }
          },
          "metadata": {},
          "execution_count": 58
        }
      ]
    },
    {
      "cell_type": "markdown",
      "source": [
        "Car dealer"
      ],
      "metadata": {
        "id": "XZZt164oeVCh"
      }
    },
    {
      "cell_type": "code",
      "execution_count": 65,
      "metadata": {
        "colab": {
          "base_uri": "https://localhost:8080/",
          "height": 35
        },
        "id": "1mTHe1y2ouKg",
        "outputId": "9dbc6f41-f06b-4a04-97c8-70e6ca56b604"
      },
      "outputs": [
        {
          "output_type": "execute_result",
          "data": {
            "text/plain": [
              "'Unlimited Motors LLC'"
            ],
            "application/vnd.google.colaboratory.intrinsic+json": {
              "type": "string"
            }
          },
          "metadata": {},
          "execution_count": 65
        }
      ],
      "source": [
        "results[0].find('div', attrs={'class':'dealer-name'}).text.strip()"
      ]
    },
    {
      "cell_type": "markdown",
      "metadata": {
        "id": "WsiOhoLgouKh"
      },
      "source": [
        "### Put everything together inside a For-Loop"
      ]
    },
    {
      "cell_type": "code",
      "execution_count": 20,
      "metadata": {
        "id": "NsWOZDY3ouKh"
      },
      "outputs": [],
      "source": [
        "name = []\n",
        "price = []\n",
        "mileage = []\n",
        "review_rating = []\n",
        "review_score = []\n",
        "dealer = []\n",
        "for result in results:\n",
        "  #name\n",
        "  try:\n",
        "    name.append(result.find('h2').text)\n",
        "  except:\n",
        "    name.append('n/a')\n",
        "  #price\n",
        "  try:\n",
        "    price.append(result.find('span', attrs={'class':'primary-price'}).text)\n",
        "  except:\n",
        "    price.append('n/a')\n",
        "  #dealer\n",
        "  try:\n",
        "    dealer.append(result.find('div', attrs={'class':'dealer-name'}).text.strip())\n",
        "  except:\n",
        "    price.append('n/a')\n",
        "  #mileage\n",
        "  try:\n",
        "    mileage.append(result.find('div', attrs={'class':'mileage'}).text)\n",
        "  except:\n",
        "    mileage.append('n/a')\n",
        "  #review_rating\n",
        "  try:\n",
        "    review_rating.append(result.find('span', attrs={'class':'sds-rating__count'}).text)\n",
        "  except:\n",
        "    review_rating.append('n/a')\n",
        "  #review_score\n",
        "  try:\n",
        "    review_score.append(result.find('span', attrs={'class':'sds-rating__link sds-button-link'}).text)\n",
        "  except:\n",
        "    review_score.append('n/a')"
      ]
    },
    {
      "cell_type": "code",
      "source": [
        "name"
      ],
      "metadata": {
        "colab": {
          "base_uri": "https://localhost:8080/"
        },
        "id": "mi4bRhe6Z1en",
        "outputId": "35e37a7b-a127-48ae-bcf4-63965b5a25aa"
      },
      "execution_count": 19,
      "outputs": [
        {
          "output_type": "execute_result",
          "data": {
            "text/plain": [
              "['2020 Mercedes-Benz AMG C 43 Base 4MATIC',\n",
              " '2016 Mercedes-Benz C-Class C 300',\n",
              " '2020 Mercedes-Benz AMG G 63 Base',\n",
              " '2011 Mercedes-Benz S-Class S 63 AMG',\n",
              " '2015 Mercedes-Benz S-Class S 550 4MATIC',\n",
              " '2020 Mercedes-Benz GLB 250 Base',\n",
              " '2011 Mercedes-Benz E-Class E 350 4MATIC',\n",
              " '2019 Mercedes-Benz AMG GLE 43 4MATIC Coupe',\n",
              " '2021 Mercedes-Benz GLC 300 Base 4MATIC',\n",
              " '2017 Mercedes-Benz AMG C 43 Base 4MATIC',\n",
              " '2019 Mercedes-Benz C-Class C 300 4MATIC',\n",
              " '2015 Mercedes-Benz GL-Class GL 550 4MATIC',\n",
              " '2017 Mercedes-Benz C-Class C 300 4MATIC',\n",
              " '2020 Mercedes-Benz GLB 250 Base 4MATIC',\n",
              " '2020 Mercedes-Benz AMG G 63 Base',\n",
              " '2019 Mercedes-Benz AMG GLE 43 4MATIC Coupe',\n",
              " '2016 Mercedes-Benz C-Class C 300',\n",
              " '2021 Mercedes-Benz GLS 580 Base 4MATIC',\n",
              " '2018 Mercedes-Benz AMG GLC 43 Base 4MATIC',\n",
              " '2021 Mercedes-Benz C-Class C 300']"
            ]
          },
          "metadata": {},
          "execution_count": 19
        }
      ]
    },
    {
      "cell_type": "markdown",
      "metadata": {
        "id": "ODgdwSsWouKi"
      },
      "source": [
        "#### Combine URLs"
      ]
    },
    {
      "cell_type": "code",
      "execution_count": null,
      "metadata": {
        "id": "HpRsFuwYouKi"
      },
      "outputs": [],
      "source": [
        ""
      ]
    },
    {
      "cell_type": "markdown",
      "metadata": {
        "id": "6TwLWGdMouKi"
      },
      "source": [
        "### Create Pandas Dataframe"
      ]
    },
    {
      "cell_type": "code",
      "execution_count": 24,
      "metadata": {
        "id": "kl_UVQ0iouKi"
      },
      "outputs": [],
      "source": [
        "data = pd.DataFrame({'Name' : name,\n",
        "                     'Price' : price,\n",
        "                     'Dealer_name' : dealer,\n",
        "                     'Mileage': mileage,\n",
        "                     \"Rating\" : review_rating,\n",
        "                     \"Review_count\" :review_score })"
      ]
    },
    {
      "cell_type": "code",
      "execution_count": null,
      "metadata": {
        "id": "kbXcUtV3ouKi"
      },
      "outputs": [],
      "source": [
        "data"
      ]
    },
    {
      "cell_type": "code",
      "execution_count": 28,
      "metadata": {
        "id": "jQS3afgBouKj"
      },
      "outputs": [],
      "source": [
        "data['Review_count'] = data['Review_count'].apply(lambda x:x. strip('reviews)').strip('('))"
      ]
    },
    {
      "cell_type": "code",
      "source": [
        "data['Mileage'] = data['Mileage'].apply(lambda x:x. strip('mi.'))"
      ],
      "metadata": {
        "id": "N-JbZI0xmTFt"
      },
      "execution_count": 33,
      "outputs": []
    },
    {
      "cell_type": "markdown",
      "metadata": {
        "id": "NzoTEDuvouKj"
      },
      "source": [
        "### Output in Excel"
      ]
    },
    {
      "cell_type": "code",
      "execution_count": 36,
      "metadata": {
        "id": "lxUzHufTouKj"
      },
      "outputs": [],
      "source": [
        "data.to_excel('cars.xlsx', index=False)"
      ]
    },
    {
      "cell_type": "code",
      "execution_count": null,
      "metadata": {
        "id": "SUmZ_97AouKj"
      },
      "outputs": [],
      "source": [
        ""
      ]
    },
    {
      "cell_type": "markdown",
      "metadata": {
        "id": "YgeC4G3SouKj"
      },
      "source": [
        "### Part 2 - Pagination - Scrape 500 Pages\n"
      ]
    },
    {
      "cell_type": "code",
      "execution_count": null,
      "metadata": {
        "id": "_3iqO9WwouKj"
      },
      "outputs": [],
      "source": [
        ""
      ]
    },
    {
      "cell_type": "code",
      "execution_count": 37,
      "metadata": {
        "id": "_Q5k2mY9ouKk"
      },
      "outputs": [],
      "source": [
        "name = []\n",
        "price = []\n",
        "mileage = []\n",
        "review_rating = []\n",
        "review_score = []\n",
        "dealer = []\n",
        "for i in range(1,501):\n",
        "  # get url\n",
        "  website = 'https://www.cars.com/shopping/results/?page='+str(i)+'&list_price_max=&makes%5B%5D=mercedes_benz&maximum_distance=20&models%5B%5D=&page_size=20&stock_type=used&zip='\n",
        "  web_url=  requests.get(website)\n",
        "  soup = BeautifulSoup(web_url.text, 'html.parser')\n",
        "  results = soup.find_all('div', attrs={'class':'vehicle-card'})\n",
        "  for result in results:\n",
        "    #name\n",
        "    try:\n",
        "      name.append(result.find('h2').text)\n",
        "    except:\n",
        "      name.append('n/a')\n",
        "    #price\n",
        "    try:\n",
        "      price.append(result.find('span', attrs={'class':'primary-price'}).text)\n",
        "    except:\n",
        "      price.append('n/a')\n",
        "    #dealer\n",
        "    try:\n",
        "      dealer.append(result.find('div', attrs={'class':'dealer-name'}).text.strip())\n",
        "    except:\n",
        "      price.append('n/a')\n",
        "    #mileage\n",
        "    try:\n",
        "      mileage.append(result.find('div', attrs={'class':'mileage'}).text)\n",
        "    except:\n",
        "      mileage.append('n/a')\n",
        "    #review_rating\n",
        "    try:\n",
        "      review_rating.append(result.find('span', attrs={'class':'sds-rating__count'}).text)\n",
        "    except:\n",
        "      review_rating.append('n/a')\n",
        "    #review_score\n",
        "    try:\n",
        "      review_score.append(result.find('span', attrs={'class':'sds-rating__link sds-button-link'}).text)\n",
        "    except:\n",
        "      review_score.append('n/a')"
      ]
    },
    {
      "cell_type": "code",
      "execution_count": 38,
      "metadata": {
        "id": "ag_j5IoAouKk"
      },
      "outputs": [],
      "source": [
        "data_final = pd.DataFrame({'Name' : name,\n",
        "                     'Price' : price,\n",
        "                     'Dealer_name' : dealer,\n",
        "                     'Mileage': mileage,\n",
        "                     \"Rating\" : review_rating,\n",
        "                     \"Review_count\" :review_score })"
      ]
    },
    {
      "cell_type": "code",
      "execution_count": 46,
      "metadata": {
        "id": "o2eH7_5AouKk"
      },
      "outputs": [],
      "source": [
        "data_final['Review_count'] = data_final['Review_count'].apply(lambda x:x. strip('reviews)').strip('('))"
      ]
    },
    {
      "cell_type": "code",
      "source": [
        "data_final['Mileage'] = data_final['Mileage'].apply(lambda x:x. strip('mi.'))"
      ],
      "metadata": {
        "id": "vaPYyztltW7c"
      },
      "execution_count": 47,
      "outputs": []
    },
    {
      "cell_type": "code",
      "source": [
        "data_final.to_excel('Benz_cars.xlsx', index=False)"
      ],
      "metadata": {
        "id": "i6tSrzlFtp4K"
      },
      "execution_count": 50,
      "outputs": []
    }
  ],
  "metadata": {
    "kernelspec": {
      "display_name": "Python 3",
      "language": "python",
      "name": "python3"
    },
    "language_info": {
      "codemirror_mode": {
        "name": "ipython",
        "version": 3
      },
      "file_extension": ".py",
      "mimetype": "text/x-python",
      "name": "python",
      "nbconvert_exporter": "python",
      "pygments_lexer": "ipython3",
      "version": "3.9.2"
    },
    "colab": {
      "name": "InitialTemplate_.ipynb",
      "provenance": [],
      "include_colab_link": true
    }
  },
  "nbformat": 4,
  "nbformat_minor": 0
}